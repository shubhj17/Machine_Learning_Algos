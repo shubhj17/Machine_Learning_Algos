{
  "nbformat": 4,
  "nbformat_minor": 0,
  "metadata": {
    "colab": {
      "name": "Polynomial Regression on california housing dataset .ipynb",
      "version": "0.3.2",
      "provenance": [],
      "collapsed_sections": [],
      "include_colab_link": true
    },
    "kernelspec": {
      "name": "python3",
      "display_name": "Python 3"
    }
  },
  "cells": [
    {
      "cell_type": "markdown",
      "metadata": {
        "id": "view-in-github",
        "colab_type": "text"
      },
      "source": [
        "<a href=\"https://colab.research.google.com/github/shubhj17/Machine_Learning_Algos/blob/master/Polynomial_Regression_on_california_housing_dataset_.ipynb\" target=\"_parent\"><img src=\"https://colab.research.google.com/assets/colab-badge.svg\" alt=\"Open In Colab\"/></a>"
      ]
    },
    {
      "cell_type": "code",
      "metadata": {
        "id": "Cq5HhtzP5CVM",
        "colab_type": "code",
        "colab": {}
      },
      "source": [
        "# Importing Libraries \n",
        "\n",
        "import pandas as pd\n",
        "import numpy as np\n",
        "import matplotlib.pyplot as plt\n",
        "import random\n",
        "from IPython.display import clear_output"
      ],
      "execution_count": 0,
      "outputs": []
    },
    {
      "cell_type": "code",
      "metadata": {
        "id": "tnWmhmen5lBz",
        "colab_type": "code",
        "colab": {}
      },
      "source": [
        "# Importing Data into pandas dataframe\n",
        "\n",
        "data = pd.read_csv(\"/content/sample_data/california_housing_train.csv\")"
      ],
      "execution_count": 0,
      "outputs": []
    },
    {
      "cell_type": "code",
      "metadata": {
        "id": "tQ2hgKVt5ze9",
        "colab_type": "code",
        "colab": {
          "base_uri": "https://localhost:8080/",
          "height": 187
        },
        "outputId": "02dec162-fe57-4977-908b-13d71f874ab2"
      },
      "source": [
        "# Checking null values if present in dataset\n",
        "\n",
        "data.isnull().sum()"
      ],
      "execution_count": 5,
      "outputs": [
        {
          "output_type": "execute_result",
          "data": {
            "text/plain": [
              "longitude             0\n",
              "latitude              0\n",
              "housing_median_age    0\n",
              "total_rooms           0\n",
              "total_bedrooms        0\n",
              "population            0\n",
              "households            0\n",
              "median_income         0\n",
              "median_house_value    0\n",
              "dtype: int64"
            ]
          },
          "metadata": {
            "tags": []
          },
          "execution_count": 5
        }
      ]
    },
    {
      "cell_type": "code",
      "metadata": {
        "id": "3D_CL961eDg7",
        "colab_type": "code",
        "colab": {
          "base_uri": "https://localhost:8080/",
          "height": 328
        },
        "outputId": "29b9b759-29b5-4dba-f44e-4e7912a7cb6f"
      },
      "source": [
        "# Checking correlation for all the columns for selecting our best feature. \n",
        "\n",
        "data.corr()"
      ],
      "execution_count": 15,
      "outputs": [
        {
          "output_type": "execute_result",
          "data": {
            "text/html": [
              "<div>\n",
              "<style scoped>\n",
              "    .dataframe tbody tr th:only-of-type {\n",
              "        vertical-align: middle;\n",
              "    }\n",
              "\n",
              "    .dataframe tbody tr th {\n",
              "        vertical-align: top;\n",
              "    }\n",
              "\n",
              "    .dataframe thead th {\n",
              "        text-align: right;\n",
              "    }\n",
              "</style>\n",
              "<table border=\"1\" class=\"dataframe\">\n",
              "  <thead>\n",
              "    <tr style=\"text-align: right;\">\n",
              "      <th></th>\n",
              "      <th>longitude</th>\n",
              "      <th>latitude</th>\n",
              "      <th>housing_median_age</th>\n",
              "      <th>total_rooms</th>\n",
              "      <th>total_bedrooms</th>\n",
              "      <th>population</th>\n",
              "      <th>households</th>\n",
              "      <th>median_income</th>\n",
              "      <th>median_house_value</th>\n",
              "    </tr>\n",
              "  </thead>\n",
              "  <tbody>\n",
              "    <tr>\n",
              "      <th>longitude</th>\n",
              "      <td>1.000000</td>\n",
              "      <td>-0.925208</td>\n",
              "      <td>-0.114250</td>\n",
              "      <td>0.047010</td>\n",
              "      <td>0.071802</td>\n",
              "      <td>0.101674</td>\n",
              "      <td>0.059628</td>\n",
              "      <td>-0.015485</td>\n",
              "      <td>-0.044982</td>\n",
              "    </tr>\n",
              "    <tr>\n",
              "      <th>latitude</th>\n",
              "      <td>-0.925208</td>\n",
              "      <td>1.000000</td>\n",
              "      <td>0.016454</td>\n",
              "      <td>-0.038773</td>\n",
              "      <td>-0.069373</td>\n",
              "      <td>-0.111261</td>\n",
              "      <td>-0.074902</td>\n",
              "      <td>-0.080303</td>\n",
              "      <td>-0.144917</td>\n",
              "    </tr>\n",
              "    <tr>\n",
              "      <th>housing_median_age</th>\n",
              "      <td>-0.114250</td>\n",
              "      <td>0.016454</td>\n",
              "      <td>1.000000</td>\n",
              "      <td>-0.360984</td>\n",
              "      <td>-0.320434</td>\n",
              "      <td>-0.295890</td>\n",
              "      <td>-0.302754</td>\n",
              "      <td>-0.115932</td>\n",
              "      <td>0.106758</td>\n",
              "    </tr>\n",
              "    <tr>\n",
              "      <th>total_rooms</th>\n",
              "      <td>0.047010</td>\n",
              "      <td>-0.038773</td>\n",
              "      <td>-0.360984</td>\n",
              "      <td>1.000000</td>\n",
              "      <td>0.928403</td>\n",
              "      <td>0.860170</td>\n",
              "      <td>0.919018</td>\n",
              "      <td>0.195383</td>\n",
              "      <td>0.130991</td>\n",
              "    </tr>\n",
              "    <tr>\n",
              "      <th>total_bedrooms</th>\n",
              "      <td>0.071802</td>\n",
              "      <td>-0.069373</td>\n",
              "      <td>-0.320434</td>\n",
              "      <td>0.928403</td>\n",
              "      <td>1.000000</td>\n",
              "      <td>0.881169</td>\n",
              "      <td>0.980920</td>\n",
              "      <td>-0.013495</td>\n",
              "      <td>0.045783</td>\n",
              "    </tr>\n",
              "    <tr>\n",
              "      <th>population</th>\n",
              "      <td>0.101674</td>\n",
              "      <td>-0.111261</td>\n",
              "      <td>-0.295890</td>\n",
              "      <td>0.860170</td>\n",
              "      <td>0.881169</td>\n",
              "      <td>1.000000</td>\n",
              "      <td>0.909247</td>\n",
              "      <td>-0.000638</td>\n",
              "      <td>-0.027850</td>\n",
              "    </tr>\n",
              "    <tr>\n",
              "      <th>households</th>\n",
              "      <td>0.059628</td>\n",
              "      <td>-0.074902</td>\n",
              "      <td>-0.302754</td>\n",
              "      <td>0.919018</td>\n",
              "      <td>0.980920</td>\n",
              "      <td>0.909247</td>\n",
              "      <td>1.000000</td>\n",
              "      <td>0.007644</td>\n",
              "      <td>0.061031</td>\n",
              "    </tr>\n",
              "    <tr>\n",
              "      <th>median_income</th>\n",
              "      <td>-0.015485</td>\n",
              "      <td>-0.080303</td>\n",
              "      <td>-0.115932</td>\n",
              "      <td>0.195383</td>\n",
              "      <td>-0.013495</td>\n",
              "      <td>-0.000638</td>\n",
              "      <td>0.007644</td>\n",
              "      <td>1.000000</td>\n",
              "      <td>0.691871</td>\n",
              "    </tr>\n",
              "    <tr>\n",
              "      <th>median_house_value</th>\n",
              "      <td>-0.044982</td>\n",
              "      <td>-0.144917</td>\n",
              "      <td>0.106758</td>\n",
              "      <td>0.130991</td>\n",
              "      <td>0.045783</td>\n",
              "      <td>-0.027850</td>\n",
              "      <td>0.061031</td>\n",
              "      <td>0.691871</td>\n",
              "      <td>1.000000</td>\n",
              "    </tr>\n",
              "  </tbody>\n",
              "</table>\n",
              "</div>"
            ],
            "text/plain": [
              "                    longitude  latitude  ...  median_income  median_house_value\n",
              "longitude            1.000000 -0.925208  ...      -0.015485           -0.044982\n",
              "latitude            -0.925208  1.000000  ...      -0.080303           -0.144917\n",
              "housing_median_age  -0.114250  0.016454  ...      -0.115932            0.106758\n",
              "total_rooms          0.047010 -0.038773  ...       0.195383            0.130991\n",
              "total_bedrooms       0.071802 -0.069373  ...      -0.013495            0.045783\n",
              "population           0.101674 -0.111261  ...      -0.000638           -0.027850\n",
              "households           0.059628 -0.074902  ...       0.007644            0.061031\n",
              "median_income       -0.015485 -0.080303  ...       1.000000            0.691871\n",
              "median_house_value  -0.044982 -0.144917  ...       0.691871            1.000000\n",
              "\n",
              "[9 rows x 9 columns]"
            ]
          },
          "metadata": {
            "tags": []
          },
          "execution_count": 15
        }
      ]
    },
    {
      "cell_type": "code",
      "metadata": {
        "id": "vtBkYM0458mo",
        "colab_type": "code",
        "colab": {}
      },
      "source": [
        "#Selecting feature and target variable based on above result. \n",
        "\n",
        "target  = data['median_house_value']\n",
        "#target = np.array(target)\n",
        "#target = target.reshape(1,len(target))\n",
        "\n",
        "# Converting feature into numpy array\n",
        "features = data[['median_income','total_rooms']]\n",
        "#features = np.array(features)\n"
      ],
      "execution_count": 0,
      "outputs": []
    },
    {
      "cell_type": "code",
      "metadata": {
        "id": "3hBxiqUH6ez5",
        "colab_type": "code",
        "outputId": "e7a3ea8b-ddb4-43dd-d2e2-80d9d1fdd260",
        "colab": {
          "base_uri": "https://localhost:8080/",
          "height": 51
        }
      },
      "source": [
        "print(\"target :\", target.shape)\n",
        "print(\"feature :\", features.shape)"
      ],
      "execution_count": 23,
      "outputs": [
        {
          "output_type": "stream",
          "text": [
            "target : (17000,)\n",
            "feature : (17000, 2)\n"
          ],
          "name": "stdout"
        }
      ]
    },
    {
      "cell_type": "code",
      "metadata": {
        "id": "Wl4vmxdSe4pi",
        "colab_type": "code",
        "colab": {}
      },
      "source": [
        "# Normalising our dataset \n",
        "\n",
        "target = target/target.max()\n",
        "features = features/features.max()"
      ],
      "execution_count": 0,
      "outputs": []
    },
    {
      "cell_type": "code",
      "metadata": {
        "id": "8DRl_lDy6z4s",
        "colab_type": "code",
        "colab": {}
      },
      "source": [
        "# Defining Functions \n",
        "\n",
        "def curve(m,x,c):\n",
        "  return m[0]*x.T.iloc[0] + m[1]*(x.T.iloc[1]**2) + c\n",
        "\n",
        "def slope1(m,x,c,y):\n",
        "  return 2*np.mean((curve(m,x,c)-y)*(x.T.iloc[0]**1))\n",
        "\n",
        "def slope2(m,x,c,y):\n",
        "  return 2*np.mean((curve(m,x,c)-y)*(x.T.iloc[1]**2))\n",
        "\n",
        "def derivative_intercept(m,x,c,y):\n",
        "  return 2*np.mean((curve(m,x,c)-y))\n",
        "\n",
        "def accuracy_func(error_param,y):\n",
        "  return 100 - (error_param/np.mean(y**2))*100\n",
        "\n",
        "def error(m,x,c,y):\n",
        "  return np.mean((curve(m,x,c)-y)**2)\n"
      ],
      "execution_count": 0,
      "outputs": []
    },
    {
      "cell_type": "code",
      "metadata": {
        "id": "69JEPryXnaSP",
        "colab_type": "code",
        "outputId": "56cbda52-ecdb-4b1b-f4d7-01848d17e3aa",
        "colab": {
          "base_uri": "https://localhost:8080/",
          "height": 34
        }
      },
      "source": [
        "slope2(m,features,2,target)"
      ],
      "execution_count": 25,
      "outputs": [
        {
          "output_type": "execute_result",
          "data": {
            "text/plain": [
              "2189140868319728.8"
            ]
          },
          "metadata": {
            "tags": []
          },
          "execution_count": 25
        }
      ]
    },
    {
      "cell_type": "code",
      "metadata": {
        "id": "DEzUoJCAn7Fw",
        "colab_type": "code",
        "outputId": "5024d253-c1f9-4bb7-b928-f752abf1c747",
        "colab": {
          "base_uri": "https://localhost:8080/",
          "height": 337
        }
      },
      "source": [
        "m = [random.random(),random.random()]\n",
        "c = random.random()\n",
        "\n",
        "iters = 500\n",
        "lr = 0.1\n",
        "cost = []\n",
        "\n",
        "for i in range(iters):\n",
        "  m[0] = m[0] - lr*slope1(m,features,c,target)\n",
        "  m[1] = m[1] - lr*slope2(m,features,c,target)\n",
        "  c    = c - lr*derivative_intercept(m,features,c,target)\n",
        "  cost.append(error(m,features,c,target))\n",
        "  clear_output(True)\n",
        "  print(\"Error : \",error(m,features,c,target))\n",
        "  \n",
        "print(\"Accuracy of Algorithm: \",accuracy_func(error(m,features,c,target),target))\n",
        "print(\"Slope Values:\", m)\n",
        "print(\"Intercept Value: \",c)\n",
        "plt.plot(cost)\n",
        "plt.show()\n",
        "\n",
        "  \n",
        "  \n",
        "  "
      ],
      "execution_count": 42,
      "outputs": [
        {
          "output_type": "stream",
          "text": [
            "Error :  0.028610031737577302\n",
            "Accuracy of Algorithm:  87.32384132882669\n",
            "Slope Values: [1.102820279261331, 0.44817620155932725]\n",
            "Intercept Value:  0.12589815243140312\n"
          ],
          "name": "stdout"
        },
        {
          "output_type": "display_data",
          "data": {
            "image/png": "[encoded data removed]",
            "text/plain": [
              "<Figure size 432x288 with 1 Axes>"
            ]
          },
          "metadata": {
            "tags": []
          }
        }
      ]
    },
    {
      "cell_type": "code",
      "metadata": {
        "id": "tQy2QIHatwuB",
        "colab_type": "code",
        "colab": {
          "base_uri": "https://localhost:8080/",
          "height": 68
        },
        "outputId": "ae23cbac-6a7f-4896-aa08-69dbf9bb2358"
      },
      "source": [
        "# Comparing actual values and predicted values\n",
        "\n",
        "print(\"Predicted Values: \")\n",
        "np.array(curve(m,features,c))"
      ],
      "execution_count": 51,
      "outputs": [
        {
          "output_type": "stream",
          "text": [
            "Predicted Values: \n"
          ],
          "name": "stdout"
        },
        {
          "output_type": "execute_result",
          "data": {
            "text/plain": [
              "array([0.24551641, 0.2779302 , 0.24743517, ..., 0.35099356, 0.27367069,\n",
              "       0.34857299])"
            ]
          },
          "metadata": {
            "tags": []
          },
          "execution_count": 51
        }
      ]
    },
    {
      "cell_type": "code",
      "metadata": {
        "id": "wFRS2A-Ufpsw",
        "colab_type": "code",
        "colab": {
          "base_uri": "https://localhost:8080/",
          "height": 68
        },
        "outputId": "585fd9d4-30d8-4672-a17b-d953731f39ad"
      },
      "source": [
        "print(\"Actual Values: \")\n",
        "np.array(target)"
      ],
      "execution_count": 52,
      "outputs": [
        {
          "output_type": "stream",
          "text": [
            "Actual Values: \n"
          ],
          "name": "stdout"
        },
        {
          "output_type": "execute_result",
          "data": {
            "text/plain": [
              "array([0.13379973, 0.16019968, 0.17139966, ..., 0.20719959, 0.17159966,\n",
              "       0.18919962])"
            ]
          },
          "metadata": {
            "tags": []
          },
          "execution_count": 52
        }
      ]
    },
    {
      "cell_type": "code",
      "metadata": {
        "id": "fl-S4g4tiC1N",
        "colab_type": "code",
        "colab": {}
      },
      "source": [
        ""
      ],
      "execution_count": 0,
      "outputs": []
    }
  ]
}
