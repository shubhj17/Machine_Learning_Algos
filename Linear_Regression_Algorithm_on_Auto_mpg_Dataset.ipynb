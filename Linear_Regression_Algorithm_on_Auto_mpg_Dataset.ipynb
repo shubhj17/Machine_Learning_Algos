{
  "nbformat": 4,
  "nbformat_minor": 0,
  "metadata": {
    "colab": {
      "name": "Linear_Regression Algorithm on Auto mpg Dataset.ipynb",
      "version": "0.3.2",
      "provenance": [],
      "include_colab_link": true
    },
    "language_info": {
      "codemirror_mode": {
        "name": "ipython",
        "version": 3
      },
      "file_extension": ".py",
      "mimetype": "text/x-python",
      "name": "python",
      "nbconvert_exporter": "python",
      "pygments_lexer": "ipython3",
      "version": "3.7.2"
    },
    "kernelspec": {
      "display_name": "Python 3",
      "language": "python",
      "name": "python3"
    }
  },
  "cells": [
    {
      "cell_type": "markdown",
      "metadata": {
        "id": "view-in-github",
        "colab_type": "text"
      },
      "source": [
        "<a href=\"https://colab.research.google.com/github/shubhj17/Machine_Learning_Algos/blob/master/Linear_Regression_Algorithm_on_Auto_mpg_Dataset.ipynb\" target=\"_parent\"><img src=\"https://colab.research.google.com/assets/colab-badge.svg\" alt=\"Open In Colab\"/></a>"
      ]
    },
    {
      "cell_type": "code",
      "metadata": {
        "id": "wgnVO2TiI7QY",
        "colab_type": "code",
        "colab": {}
      },
      "source": [
        "# Importing Libraries\n",
        "\n",
        "import pandas as pd\n",
        "import numpy as np\n",
        "#import matplotlib.plot as mpt \n",
        "import random\n",
        "import matplotlib.pyplot as plt"
      ],
      "execution_count": 0,
      "outputs": []
    },
    {
      "cell_type": "code",
      "metadata": {
        "id": "im3JwgvYI7Qf",
        "colab_type": "code",
        "colab": {}
      },
      "source": [
        "# Loading Dataset\n",
        "\n",
        "dataset = pd.read_csv(\"auto-mpg.csv\")"
      ],
      "execution_count": 0,
      "outputs": []
    },
    {
      "cell_type": "code",
      "metadata": {
        "id": "NRkX1sneI7Qk",
        "colab_type": "code",
        "colab": {
          "base_uri": "https://localhost:8080/",
          "height": 266
        },
        "outputId": "a6f26cf9-bfb8-46bb-adc2-7f1abf5c679c"
      },
      "source": [
        "# Checking Correlation between columns\n",
        "\n",
        "dataset.corr()"
      ],
      "execution_count": 6,
      "outputs": [
        {
          "output_type": "execute_result",
          "data": {
            "text/html": [
              "<div>\n",
              "<style scoped>\n",
              "    .dataframe tbody tr th:only-of-type {\n",
              "        vertical-align: middle;\n",
              "    }\n",
              "\n",
              "    .dataframe tbody tr th {\n",
              "        vertical-align: top;\n",
              "    }\n",
              "\n",
              "    .dataframe thead th {\n",
              "        text-align: right;\n",
              "    }\n",
              "</style>\n",
              "<table border=\"1\" class=\"dataframe\">\n",
              "  <thead>\n",
              "    <tr style=\"text-align: right;\">\n",
              "      <th></th>\n",
              "      <th>mpg</th>\n",
              "      <th>cylinders</th>\n",
              "      <th>displacement</th>\n",
              "      <th>weight</th>\n",
              "      <th>acceleration</th>\n",
              "      <th>model year</th>\n",
              "      <th>origin</th>\n",
              "    </tr>\n",
              "  </thead>\n",
              "  <tbody>\n",
              "    <tr>\n",
              "      <th>mpg</th>\n",
              "      <td>1.000000</td>\n",
              "      <td>-0.775396</td>\n",
              "      <td>-0.804203</td>\n",
              "      <td>-0.831741</td>\n",
              "      <td>0.420289</td>\n",
              "      <td>0.579267</td>\n",
              "      <td>0.563450</td>\n",
              "    </tr>\n",
              "    <tr>\n",
              "      <th>cylinders</th>\n",
              "      <td>-0.775396</td>\n",
              "      <td>1.000000</td>\n",
              "      <td>0.950721</td>\n",
              "      <td>0.896017</td>\n",
              "      <td>-0.505419</td>\n",
              "      <td>-0.348746</td>\n",
              "      <td>-0.562543</td>\n",
              "    </tr>\n",
              "    <tr>\n",
              "      <th>displacement</th>\n",
              "      <td>-0.804203</td>\n",
              "      <td>0.950721</td>\n",
              "      <td>1.000000</td>\n",
              "      <td>0.932824</td>\n",
              "      <td>-0.543684</td>\n",
              "      <td>-0.370164</td>\n",
              "      <td>-0.609409</td>\n",
              "    </tr>\n",
              "    <tr>\n",
              "      <th>weight</th>\n",
              "      <td>-0.831741</td>\n",
              "      <td>0.896017</td>\n",
              "      <td>0.932824</td>\n",
              "      <td>1.000000</td>\n",
              "      <td>-0.417457</td>\n",
              "      <td>-0.306564</td>\n",
              "      <td>-0.581024</td>\n",
              "    </tr>\n",
              "    <tr>\n",
              "      <th>acceleration</th>\n",
              "      <td>0.420289</td>\n",
              "      <td>-0.505419</td>\n",
              "      <td>-0.543684</td>\n",
              "      <td>-0.417457</td>\n",
              "      <td>1.000000</td>\n",
              "      <td>0.288137</td>\n",
              "      <td>0.205873</td>\n",
              "    </tr>\n",
              "    <tr>\n",
              "      <th>model year</th>\n",
              "      <td>0.579267</td>\n",
              "      <td>-0.348746</td>\n",
              "      <td>-0.370164</td>\n",
              "      <td>-0.306564</td>\n",
              "      <td>0.288137</td>\n",
              "      <td>1.000000</td>\n",
              "      <td>0.180662</td>\n",
              "    </tr>\n",
              "    <tr>\n",
              "      <th>origin</th>\n",
              "      <td>0.563450</td>\n",
              "      <td>-0.562543</td>\n",
              "      <td>-0.609409</td>\n",
              "      <td>-0.581024</td>\n",
              "      <td>0.205873</td>\n",
              "      <td>0.180662</td>\n",
              "      <td>1.000000</td>\n",
              "    </tr>\n",
              "  </tbody>\n",
              "</table>\n",
              "</div>"
            ],
            "text/plain": [
              "                   mpg  cylinders  ...  model year    origin\n",
              "mpg           1.000000  -0.775396  ...    0.579267  0.563450\n",
              "cylinders    -0.775396   1.000000  ...   -0.348746 -0.562543\n",
              "displacement -0.804203   0.950721  ...   -0.370164 -0.609409\n",
              "weight       -0.831741   0.896017  ...   -0.306564 -0.581024\n",
              "acceleration  0.420289  -0.505419  ...    0.288137  0.205873\n",
              "model year    0.579267  -0.348746  ...    1.000000  0.180662\n",
              "origin        0.563450  -0.562543  ...    0.180662  1.000000\n",
              "\n",
              "[7 rows x 7 columns]"
            ]
          },
          "metadata": {
            "tags": []
          },
          "execution_count": 6
        }
      ]
    },
    {
      "cell_type": "code",
      "metadata": {
        "id": "3KZcRcK3I7Qp",
        "colab_type": "code",
        "colab": {}
      },
      "source": [
        "# Selecting feature and column based on correlation\n",
        "\n",
        "displacement = dataset['displacement']\n",
        "target = dataset['mpg']"
      ],
      "execution_count": 0,
      "outputs": []
    },
    {
      "cell_type": "code",
      "metadata": {
        "id": "S1rWUq4MLzcj",
        "colab_type": "code",
        "colab": {}
      },
      "source": [
        "displacement = displacement/displacement.max()\n",
        "target = target/target.max()"
      ],
      "execution_count": 0,
      "outputs": []
    },
    {
      "cell_type": "code",
      "metadata": {
        "id": "IqbLmucCI7Qy",
        "colab_type": "code",
        "colab": {}
      },
      "source": [
        "# Defining Functions \n",
        "\n",
        "def line(m,displacement,c):\n",
        "    return m*displacement + c\n",
        "\n",
        "def partial_der_slope(m,displacement,c,target):\n",
        "    return 2*np.mean((line(m,displacement,c) - target)*displacement)\n",
        "\n",
        "def partial_der_intercept(m,displacement,c,target):\n",
        "    return 2*np.mean(line(m,displacement,c) - target)\n",
        "\n",
        "def minimise_error(m,displacement,c,target):\n",
        "    return np.mean(line(m,displacement,c) - target)**2\n",
        "def accuracy(error,target):\n",
        "    return 100 - ((error/np.mean(target**2))*100)"
      ],
      "execution_count": 0,
      "outputs": []
    },
    {
      "cell_type": "code",
      "metadata": {
        "id": "EMg6O8_9I7Q3",
        "colab_type": "code",
        "colab": {
          "base_uri": "https://localhost:8080/",
          "height": 327
        },
        "outputId": "f5bf2875-ff5e-40be-e6f2-47d940608932"
      },
      "source": [
        "# Training our Dataset\n",
        "\n",
        "m = random.random()\n",
        "#m = 0.0001\n",
        "#c = 1\n",
        "c = random.random()\n",
        "cost=[]\n",
        "alpha = 0.000001\n",
        "for i in range(0,100):\n",
        "    m = m-alpha*partial_der_slope(m,displacement,c,target)\n",
        "    c = c-alpha*partial_der_intercept(m,displacement,c,target)\n",
        "    cost.append(minimise_error(m,displacement,c,target))\n",
        "    #print(line(m,displacement,c),target)\n",
        "    \n",
        "print(m)\n",
        "print(c)\n",
        "print(\"Accuracy of Algorithm is\",accuracy(minimise_error(m,displacement,c,target),target),\"%\")\n",
        "plt.plot(cost)\n",
        "plt.show()"
      ],
      "execution_count": 46,
      "outputs": [
        {
          "output_type": "stream",
          "text": [
            "0.3779550057581223\n",
            "0.3077453200983301\n",
            "Accuracy of Algorithm is 99.53678966003484 %\n"
          ],
          "name": "stdout"
        },
        {
          "output_type": "display_data",
          "data": {
            "image/png": "[encoded data removed]",
            "text/plain": [
              "<Figure size 432x288 with 1 Axes>"
            ]
          },
          "metadata": {
            "tags": []
          }
        }
      ]
    },
    {
      "cell_type": "code",
      "metadata": {
        "id": "_HWFKs7TI7RP",
        "colab_type": "code",
        "colab": {}
      },
      "source": [
        ""
      ],
      "execution_count": 0,
      "outputs": []
    }
  ]
}