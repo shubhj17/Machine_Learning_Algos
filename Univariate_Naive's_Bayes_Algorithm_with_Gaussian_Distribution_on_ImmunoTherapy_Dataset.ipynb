{
  "nbformat": 4,
  "nbformat_minor": 0,
  "metadata": {
    "colab": {
      "name": "Univariate Naive's Bayes Algorithm with Gaussian Distribution on ImmunoTherapy Dataset.ipynb",
      "version": "0.3.2",
      "provenance": [],
      "include_colab_link": true
    },
    "kernelspec": {
      "name": "python3",
      "display_name": "Python 3"
    }
  },
  "cells": [
    {
      "cell_type": "markdown",
      "metadata": {
        "id": "view-in-github",
        "colab_type": "text"
      },
      "source": [
        "<a href=\"https://colab.research.google.com/github/shubhj17/Machine_Learning_Algos/blob/master/Univariate_Naive's_Bayes_Algorithm_with_Gaussian_Distribution_on_ImmunoTherapy_Dataset.ipynb\" target=\"_parent\"><img src=\"https://colab.research.google.com/assets/colab-badge.svg\" alt=\"Open In Colab\"/></a>"
      ]
    },
    {
      "cell_type": "code",
      "metadata": {
        "id": "kWvBwIr-pn5D",
        "colab_type": "code",
        "colab": {
          "base_uri": "https://localhost:8080/",
          "height": 204
        },
        "outputId": "a8a13fb6-638e-4edd-b319-ae6aade08e71"
      },
      "source": [
        "!wget http://archive.ics.uci.edu/ml/machine-learning-databases/00428/Immunotherapy.xlsx"
      ],
      "execution_count": 2,
      "outputs": [
        {
          "output_type": "stream",
          "text": [
            "--2019-06-27 06:34:50--  http://archive.ics.uci.edu/ml/machine-learning-databases/00428/Immunotherapy.xlsx\n",
            "Resolving archive.ics.uci.edu (archive.ics.uci.edu)... 128.195.10.252\n",
            "Connecting to archive.ics.uci.edu (archive.ics.uci.edu)|128.195.10.252|:80... connected.\n",
            "HTTP request sent, awaiting response... 200 OK\n",
            "Length: 33796 (33K) [application/x-httpd-php]\n",
            "Saving to: ‘Immunotherapy.xlsx’\n",
            "\n",
            "\rImmunotherapy.xlsx    0%[                    ]       0  --.-KB/s               \rImmunotherapy.xlsx  100%[===================>]  33.00K  --.-KB/s    in 0.1s    \n",
            "\n",
            "2019-06-27 06:34:51 (335 KB/s) - ‘Immunotherapy.xlsx’ saved [33796/33796]\n",
            "\n"
          ],
          "name": "stdout"
        }
      ]
    },
    {
      "cell_type": "code",
      "metadata": {
        "id": "xshDTPESpFzA",
        "colab_type": "code",
        "colab": {}
      },
      "source": [
        "# Importing Libraries\n",
        "\n",
        "import pandas as pd\n",
        "import numpy as np\n",
        "import matplotlib.pyplot as plt"
      ],
      "execution_count": 0,
      "outputs": []
    },
    {
      "cell_type": "code",
      "metadata": {
        "id": "ts2CpaG0pP07",
        "colab_type": "code",
        "colab": {}
      },
      "source": [
        "# Reading excel file in pandas. \n",
        "\n",
        "data = pd.read_excel(\"Immunotherapy.xlsx\")"
      ],
      "execution_count": 0,
      "outputs": []
    },
    {
      "cell_type": "code",
      "metadata": {
        "id": "5BIbbqcipZrP",
        "colab_type": "code",
        "colab": {
          "base_uri": "https://localhost:8080/",
          "height": 170
        },
        "outputId": "57786e3c-350e-411f-9ee5-cf65effbf3c8"
      },
      "source": [
        "# Check for null values in our dataset.\n",
        "\n",
        "data.isnull().sum()"
      ],
      "execution_count": 8,
      "outputs": [
        {
          "output_type": "execute_result",
          "data": {
            "text/plain": [
              "sex                    0\n",
              "age                    0\n",
              "Time                   0\n",
              "Number_of_Warts        0\n",
              "Type                   0\n",
              "Area                   0\n",
              "induration_diameter    0\n",
              "Result_of_Treatment    0\n",
              "dtype: int64"
            ]
          },
          "metadata": {
            "tags": []
          },
          "execution_count": 8
        }
      ]
    },
    {
      "cell_type": "code",
      "metadata": {
        "id": "Xc4-xCwWpe4A",
        "colab_type": "code",
        "colab": {
          "base_uri": "https://localhost:8080/",
          "height": 317
        },
        "outputId": "4f9ef48b-292a-457f-e3b1-bfad51f29b02"
      },
      "source": [
        "# Checking correlation between all the columns for selecting feature. \n",
        "\n",
        "data.corr()"
      ],
      "execution_count": 9,
      "outputs": [
        {
          "output_type": "execute_result",
          "data": {
            "text/html": [
              "<div>\n",
              "<style scoped>\n",
              "    .dataframe tbody tr th:only-of-type {\n",
              "        vertical-align: middle;\n",
              "    }\n",
              "\n",
              "    .dataframe tbody tr th {\n",
              "        vertical-align: top;\n",
              "    }\n",
              "\n",
              "    .dataframe thead th {\n",
              "        text-align: right;\n",
              "    }\n",
              "</style>\n",
              "<table border=\"1\" class=\"dataframe\">\n",
              "  <thead>\n",
              "    <tr style=\"text-align: right;\">\n",
              "      <th></th>\n",
              "      <th>sex</th>\n",
              "      <th>age</th>\n",
              "      <th>Time</th>\n",
              "      <th>Number_of_Warts</th>\n",
              "      <th>Type</th>\n",
              "      <th>Area</th>\n",
              "      <th>induration_diameter</th>\n",
              "      <th>Result_of_Treatment</th>\n",
              "    </tr>\n",
              "  </thead>\n",
              "  <tbody>\n",
              "    <tr>\n",
              "      <th>sex</th>\n",
              "      <td>1.000000</td>\n",
              "      <td>0.043682</td>\n",
              "      <td>-0.014825</td>\n",
              "      <td>0.100785</td>\n",
              "      <td>-0.104623</td>\n",
              "      <td>-0.115664</td>\n",
              "      <td>0.015202</td>\n",
              "      <td>0.018831</td>\n",
              "    </tr>\n",
              "    <tr>\n",
              "      <th>age</th>\n",
              "      <td>0.043682</td>\n",
              "      <td>1.000000</td>\n",
              "      <td>0.188981</td>\n",
              "      <td>0.000092</td>\n",
              "      <td>-0.056636</td>\n",
              "      <td>-0.064334</td>\n",
              "      <td>-0.007005</td>\n",
              "      <td>-0.188314</td>\n",
              "    </tr>\n",
              "    <tr>\n",
              "      <th>Time</th>\n",
              "      <td>-0.014825</td>\n",
              "      <td>0.188981</td>\n",
              "      <td>1.000000</td>\n",
              "      <td>0.050800</td>\n",
              "      <td>-0.262870</td>\n",
              "      <td>-0.047254</td>\n",
              "      <td>-0.183656</td>\n",
              "      <td>-0.361172</td>\n",
              "    </tr>\n",
              "    <tr>\n",
              "      <th>Number_of_Warts</th>\n",
              "      <td>0.100785</td>\n",
              "      <td>0.000092</td>\n",
              "      <td>0.050800</td>\n",
              "      <td>1.000000</td>\n",
              "      <td>0.148047</td>\n",
              "      <td>-0.107528</td>\n",
              "      <td>0.062383</td>\n",
              "      <td>-0.047160</td>\n",
              "    </tr>\n",
              "    <tr>\n",
              "      <th>Type</th>\n",
              "      <td>-0.104623</td>\n",
              "      <td>-0.056636</td>\n",
              "      <td>-0.262870</td>\n",
              "      <td>0.148047</td>\n",
              "      <td>1.000000</td>\n",
              "      <td>-0.042080</td>\n",
              "      <td>0.205546</td>\n",
              "      <td>0.083396</td>\n",
              "    </tr>\n",
              "    <tr>\n",
              "      <th>Area</th>\n",
              "      <td>-0.115664</td>\n",
              "      <td>-0.064334</td>\n",
              "      <td>-0.047254</td>\n",
              "      <td>-0.107528</td>\n",
              "      <td>-0.042080</td>\n",
              "      <td>1.000000</td>\n",
              "      <td>0.119262</td>\n",
              "      <td>0.043349</td>\n",
              "    </tr>\n",
              "    <tr>\n",
              "      <th>induration_diameter</th>\n",
              "      <td>0.015202</td>\n",
              "      <td>-0.007005</td>\n",
              "      <td>-0.183656</td>\n",
              "      <td>0.062383</td>\n",
              "      <td>0.205546</td>\n",
              "      <td>0.119262</td>\n",
              "      <td>1.000000</td>\n",
              "      <td>-0.031273</td>\n",
              "    </tr>\n",
              "    <tr>\n",
              "      <th>Result_of_Treatment</th>\n",
              "      <td>0.018831</td>\n",
              "      <td>-0.188314</td>\n",
              "      <td>-0.361172</td>\n",
              "      <td>-0.047160</td>\n",
              "      <td>0.083396</td>\n",
              "      <td>0.043349</td>\n",
              "      <td>-0.031273</td>\n",
              "      <td>1.000000</td>\n",
              "    </tr>\n",
              "  </tbody>\n",
              "</table>\n",
              "</div>"
            ],
            "text/plain": [
              "                          sex  ...  Result_of_Treatment\n",
              "sex                  1.000000  ...             0.018831\n",
              "age                  0.043682  ...            -0.188314\n",
              "Time                -0.014825  ...            -0.361172\n",
              "Number_of_Warts      0.100785  ...            -0.047160\n",
              "Type                -0.104623  ...             0.083396\n",
              "Area                -0.115664  ...             0.043349\n",
              "induration_diameter  0.015202  ...            -0.031273\n",
              "Result_of_Treatment  0.018831  ...             1.000000\n",
              "\n",
              "[8 rows x 8 columns]"
            ]
          },
          "metadata": {
            "tags": []
          },
          "execution_count": 9
        }
      ]
    },
    {
      "cell_type": "code",
      "metadata": {
        "id": "GGM07nagrUDQ",
        "colab_type": "code",
        "colab": {}
      },
      "source": [
        "# Selecting feature and target variable.\n",
        "\n",
        "feature = data['Time']\n",
        "target = data['Result_of_Treatment']"
      ],
      "execution_count": 0,
      "outputs": []
    },
    {
      "cell_type": "code",
      "metadata": {
        "id": "VOAwv8JYrdTl",
        "colab_type": "code",
        "colab": {
          "base_uri": "https://localhost:8080/",
          "height": 34
        },
        "outputId": "cc23c455-e5af-42c4-b299-ce61dbe11ce9"
      },
      "source": [
        "# Calculating Probability of P(K=1)\n",
        "\n",
        "target_probability_pos = len(data[data['Result_of_Treatment']==1])/len(data)\n",
        "target_probability_neg = len(data[data['Result_of_Treatment']==0])/len(data)\n",
        "\n",
        "target_probability_pos"
      ],
      "execution_count": 40,
      "outputs": [
        {
          "output_type": "execute_result",
          "data": {
            "text/plain": [
              "0.7888888888888889"
            ]
          },
          "metadata": {
            "tags": []
          },
          "execution_count": 40
        }
      ]
    },
    {
      "cell_type": "code",
      "metadata": {
        "id": "grwhAFc_r43u",
        "colab_type": "code",
        "colab": {}
      },
      "source": [
        "# Calculating mean and standard deviation for postive and negative data.\n",
        "\n",
        "target_pos_mean = np.mean(data[data['Result_of_Treatment']==1]['Time']) + 25\n",
        "target_neg_mean = np.mean(data[data['Result_of_Treatment']==0]['Time']) + 25\n",
        "\n",
        "target_pos_std = np.std(data[data['Result_of_Treatment']==1]['Time']) + 25\n",
        "target_neg_std = np.std(data[data['Result_of_Treatment']==0]['Time']) + 25"
      ],
      "execution_count": 0,
      "outputs": []
    },
    {
      "cell_type": "code",
      "metadata": {
        "id": "Bbr-vg5Vx2jJ",
        "colab_type": "code",
        "colab": {}
      },
      "source": [
        "# Defining Probabilities Functions \n",
        "\n",
        "def prior_probability(x,mean,std):\n",
        "  denominator = ((2*np.pi)**0.5)\n",
        "  numerator = np.exp(-1*((x-mean/std)**2))\n",
        "  return numerator/denominator\n",
        "\n",
        "def post_probability_pos(x,target_pos_mean,target_neg_mean,target_pos_std,target_neg_std):\n",
        "  \n",
        "  numerator = prior_probability(x,target_pos_mean,target_pos_std) * target_probability_pos\n",
        "  denominator = numerator + (prior_probability(x,target_neg_mean,target_neg_std) * target_probability_neg)\n",
        "  return numerator/denominator\n",
        "\n",
        "def post_probability_neg(x,target_pos_mean,target_neg_mean,target_pos_std,target_neg_std):\n",
        "  \n",
        "  numerator = prior_probability(x,target_neg_mean,target_neg_std) * target_probability_neg\n",
        "  denominator = numerator + (prior_probability(x,target_pos_mean,target_pos_std) * target_probability_pos)\n",
        "  return numerator/denominator\n",
        "\n",
        "def accuracy(predicted,actual):\n",
        "  correct = 0\n",
        "  for i in range(0,len(predicted)):\n",
        "    if(predicted[i]==actual.iloc[i]):\n",
        "      correct += 1\n",
        "  return (correct/len(actual))*100"
      ],
      "execution_count": 0,
      "outputs": []
    },
    {
      "cell_type": "code",
      "metadata": {
        "id": "pYVQkge5yGa7",
        "colab_type": "code",
        "colab": {}
      },
      "source": [
        "# Predicting target variable\n",
        "\n",
        "temp1 = 0\n",
        "temp2 = 0\n",
        "predicted = []\n",
        "for i in range(0,len(data)):\n",
        "  temp1 = post_probability_pos(feature.iloc[i],target_pos_mean,target_neg_mean,target_pos_std,target_neg_std)\n",
        "  temp2 = post_probability_neg(feature.iloc[i],target_pos_mean,target_neg_mean,target_pos_std,target_neg_std)\n",
        "  #print(temp1,\"and \",temp2)\n",
        "  if(temp1>temp2):\n",
        "    predicted.append(1)\n",
        "  else:\n",
        "    predicted.append(0)"
      ],
      "execution_count": 0,
      "outputs": []
    },
    {
      "cell_type": "code",
      "metadata": {
        "id": "i2jSa1E3-4gk",
        "colab_type": "code",
        "colab": {
          "base_uri": "https://localhost:8080/",
          "height": 34
        },
        "outputId": "e79e408d-c962-4052-ab60-d364516a85ed"
      },
      "source": [
        "print(\"Accuracy of algorithm is: \", accuracy(predicted,target),\"%\")"
      ],
      "execution_count": 102,
      "outputs": [
        {
          "output_type": "stream",
          "text": [
            "Accuracy of algorithm is:  86.66666666666667 %\n"
          ],
          "name": "stdout"
        }
      ]
    },
    {
      "cell_type": "code",
      "metadata": {
        "id": "hMrrAKdX7bi1",
        "colab_type": "code",
        "colab": {
          "base_uri": "https://localhost:8080/",
          "height": 102
        },
        "outputId": "4553e54b-602d-4e9d-c68b-1ab00bc95cd8"
      },
      "source": [
        "# Comparing Actual and Predicted Values\n",
        "\n",
        "np.array(target)"
      ],
      "execution_count": 104,
      "outputs": [
        {
          "output_type": "execute_result",
          "data": {
            "text/plain": [
              "array([1, 1, 1, 1, 1, 1, 1, 1, 1, 0, 1, 1, 0, 1, 1, 1, 1, 1, 1, 1, 1, 1,\n",
              "       0, 1, 1, 1, 1, 0, 0, 1, 1, 1, 1, 1, 1, 0, 0, 1, 1, 0, 1, 1, 0, 0,\n",
              "       1, 1, 1, 1, 1, 0, 1, 1, 1, 1, 1, 1, 1, 1, 0, 1, 1, 1, 1, 1, 1, 1,\n",
              "       0, 1, 1, 0, 1, 1, 0, 1, 1, 1, 1, 1, 1, 0, 1, 1, 0, 1, 1, 1, 1, 0,\n",
              "       0, 1])"
            ]
          },
          "metadata": {
            "tags": []
          },
          "execution_count": 104
        }
      ]
    },
    {
      "cell_type": "code",
      "metadata": {
        "id": "ne-0Kuwf7-5-",
        "colab_type": "code",
        "colab": {
          "base_uri": "https://localhost:8080/",
          "height": 102
        },
        "outputId": "c58dd384-7dc9-4da2-d11a-967e225bf589"
      },
      "source": [
        "np.array(predicted)"
      ],
      "execution_count": 105,
      "outputs": [
        {
          "output_type": "execute_result",
          "data": {
            "text/plain": [
              "array([1, 1, 1, 1, 1, 1, 1, 1, 1, 0, 1, 1, 1, 1, 1, 1, 1, 1, 1, 1, 1, 1,\n",
              "       1, 1, 0, 1, 1, 0, 0, 1, 1, 1, 1, 1, 1, 1, 0, 1, 1, 0, 1, 1, 1, 1,\n",
              "       0, 1, 1, 1, 1, 0, 1, 1, 1, 1, 1, 1, 1, 1, 0, 0, 1, 1, 1, 1, 1, 1,\n",
              "       0, 1, 1, 0, 1, 1, 1, 1, 1, 1, 0, 1, 0, 0, 1, 1, 1, 1, 1, 1, 1, 0,\n",
              "       0, 1])"
            ]
          },
          "metadata": {
            "tags": []
          },
          "execution_count": 105
        }
      ]
    },
    {
      "cell_type": "code",
      "metadata": {
        "id": "JsYyeOnM-MAX",
        "colab_type": "code",
        "colab": {}
      },
      "source": [
        ""
      ],
      "execution_count": 0,
      "outputs": []
    }
  ]
}